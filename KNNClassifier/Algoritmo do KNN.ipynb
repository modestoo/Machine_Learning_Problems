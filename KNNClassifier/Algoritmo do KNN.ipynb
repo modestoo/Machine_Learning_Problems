{
 "cells": [
  {
   "cell_type": "markdown",
   "metadata": {},
   "source": [
    "#### OK - 1 - Testar com base de dados de Iris (ver se a predição deu certo) \n",
    "#### 2 - Comparar com o algorítmo de KNN real\n",
    "#### 3 - Melhorar nomes das variáveis\n",
    "#### 4 - Comentar funções\n",
    "#### 5 - Revisar funções em private OO\n",
    "#### OK 6 - Criar função de score\n",
    "#### 7 - Revisar de há algum função proibida\n",
    "#### 8 - Criar novas funções de cálculo de distância (Euclidiana, Manhattan, Minkowski e distância de Hamming. As primeiras três funções são usadas para a função contínua e a quarta (Hamming) para variáveis categóricas)\n",
    "#### 9 - Criar Matriz de Confusão\n",
    "#### 10 - Finalizar nootebook (instânciando o meu modelo e comparando com o modelo original KNN)"
   ]
  },
  {
   "cell_type": "code",
   "execution_count": 463,
   "metadata": {},
   "outputs": [],
   "source": [
    "import math\n",
    "import csv\n",
    "import random"
   ]
  },
  {
   "cell_type": "code",
   "execution_count": 464,
   "metadata": {},
   "outputs": [],
   "source": [
    "class ManupulaArquivo:\n",
    "    \n",
    "    def load_dataset(self, path):\n",
    "        with open(path) as csvfile:\n",
    "            dataset = list(csv.reader(csvfile))\n",
    "        return dataset\n",
    "\n",
    "    # embaralha e retorna o tamanho dos dataset da base de test\n",
    "    def embaralha_dataset(self, dataset, split_ratio):\n",
    "        dataset = random.sample(dataset, len(dataset))\n",
    "        #print(len(dataset))\n",
    "        test_ratio = int(len(dataset) * split_ratio)\n",
    "        #train_ratio = len(dataset) - test_ratio\n",
    "        #print(\"Quant. Teste: \", test_ratio)\n",
    "        return dataset, test_ratio \n",
    "    \n",
    "    # separa o dataset e retorn as bases separadas\n",
    "    def separa_dataset(self, dataset, test_ratio):\n",
    "        test_data = dataset[:test_ratio]\n",
    "        train_data = dataset[test_ratio:]\n",
    "        #print(\"T. Train: \", len(train_data), \"T. Test: \",len(test_data),\"\\n\", (train_data[:3]),\"\\n\", (test_data[:3]))\n",
    "        return train_data, test_data\n",
    "    \n",
    "    # remove o elemento preditor e retorna as bases separadas (train_X, train_y, test_X, test_y)\n",
    "    def remove_elemento_preditor(self, train_data, test_data):\n",
    "        ultimo_elemento = -1\n",
    "        test_X = [data[:ultimo_elemento] for data in test_data]\n",
    "        test_y = [data[ultimo_elemento] for data in test_data]\n",
    "        train_X = [data[:ultimo_elemento] for data in train_data]\n",
    "        train_y = [data[ultimo_elemento] for data in train_data]\n",
    "        return train_X, train_y, test_X, test_y\n",
    "    \n",
    "    def split_train_test(self, dataset, split_ratio=0.3):\n",
    "        dataset, test_ratio = self.embaralha_dataset(dataset, split_ratio)\n",
    "        train_data, test_data = self.separa_dataset(dataset, test_ratio)\n",
    "        train_X, train_y, test_X, test_y = self.remove_elemento_preditor(train_data, test_data)\n",
    "        return train_X, train_y, test_X, test_y    "
   ]
  },
  {
   "cell_type": "code",
   "execution_count": 689,
   "metadata": {},
   "outputs": [],
   "source": [
    "# Classe KNN\n",
    "class KNeighborsClassifier:\n",
    "\n",
    "    def __init__(self, k=3, method='euclidean'):\n",
    "        self.k = k\n",
    "        self.method = method\n",
    "    \n",
    "    def fit(self, x_train, y_train):\n",
    "        self.x_train = x_train\n",
    "        self.y_train = y_train\n",
    "    \n",
    "    def calculate_distance(self, points_p, points_q):\n",
    "        sum_points = 0\n",
    "        \n",
    "        # De acordo com o Wikipedia, a distância euclidiana é dado pela Raiz Quadrada do Somatório((Pi - Qi)²)\n",
    "        if self.method == 'euclidean': \n",
    "            dimension_points = len(points_p)\n",
    "            #print('dimension_points: ', dimension_points)\n",
    "            #print(points_p,\"//\", points_q, \"\\n\\n\")\n",
    "            for i in range(dimension_points):\n",
    "                #print(points_p[i], points_q[i], float(points_p[i]), float(points_q[i]))\n",
    "                sum_points += (float(points_p[i]) - float(points_q[i]))**2\n",
    "                #print(sum_points)\n",
    "        \n",
    "        # De acordo com ....\n",
    "        elif self.method == 'manhattan':\n",
    "            sum_points = 9\n",
    "            \n",
    "        return math.sqrt(sum_points)\n",
    "    \n",
    "    def compara_distancias(self, instancia_test):\n",
    "        result_compara = []\n",
    "        dimension_x_train = len(self.x_train)\n",
    "        for i in range(dimension_x_train):\n",
    "            result_compara.append(self.calculate_distance(self.x_train[i], instancia_test))\n",
    "        return result_compara\n",
    "    \n",
    "    def encontra_menor_distancia(self, result_compara):\n",
    "        ranged = range(len(result_compara))\n",
    "        return sorted(ranged, key=lambda i: result_compara[i])[:self.k]\n",
    "    \n",
    "    def encontra_label(self, k_menores_distancias):\n",
    "        labels_k = []\n",
    "        for i in k_menores_distancias:\n",
    "            labels_k.append(self.y_train[i])\n",
    "        return labels_k\n",
    "    \n",
    "    def predict_label(self, labels_k):\n",
    "        return max(labels_k, key=labels_k.count)\n",
    "\n",
    "    def predict(self, x_test):\n",
    "        result_predict = []\n",
    "        #print('x_test: ', x_test)\n",
    "        for instance_x_test in x_test:\n",
    "            #print('instância: ', instance_x_test)\n",
    "            result_distance = self.compara_distancias(instance_x_test)\n",
    "            result_menor_distance = self.encontra_menor_distancia(result_distance)\n",
    "            result_label = self.encontra_label(result_menor_distance)\n",
    "            result_predict_label = self.predict_label(result_label)\n",
    "            result_predict.append(result_predict_label)                \n",
    "        return result_predict\n",
    "    \n",
    "    def prediction_report(self, predictions, test_y):\n",
    "        for i, prediction in enumerate(predictions):\n",
    "            print('Real:', test_y[i], '\\t Predito:', prediction)\n",
    "        #print(f'> Predicted = {prediction}, Actual = {test_y[idx]}')\n",
    "\n",
    "    def accuracy_report(self, predictions, test_y):\n",
    "        acertos = 0\n",
    "        for i, j in zip(predictions, test_y):\n",
    "            if i == j:\n",
    "                acertos += 1\n",
    "                \n",
    "        #accuracy = sum(i == j for i, j in zip(predictions, test_y)) / len(test_y) * 100.0\n",
    "        print('Quantidade de Treinos:', len(self.x_train))\n",
    "        print('Quantidade de Testes:', len(test_y))\n",
    "        print('Quantidade de Acertos:', acertos)\n",
    "        print('Quantidade de Erros:', (len(test_y)-acertos))\n",
    "        print('Acurácia do Modelo: %.2f%%' % (acertos*100/len(test_y)))\n",
    "        \n",
    "        # Matriz de Confusão"
   ]
  },
  {
   "cell_type": "code",
   "execution_count": 690,
   "metadata": {},
   "outputs": [
    {
     "name": "stdout",
     "output_type": "stream",
     "text": [
      "[1, 2] [3, 4]\n",
      "3 euclidean\n"
     ]
    }
   ],
   "source": [
    "knn = KNeighborsClassifier()\n",
    "knn2 = KNeighborsClassifier(method='manhattan')\n",
    "lista1=[1,2]\n",
    "lista2=[3,4]\n",
    "knn.fit(lista1,lista2)\n",
    "print(knn.x_train, knn.y_train)\n",
    "print(knn.k,knn.method)"
   ]
  },
  {
   "cell_type": "code",
   "execution_count": 691,
   "metadata": {},
   "outputs": [
    {
     "data": {
      "text/plain": [
       "30.01666203960727"
      ]
     },
     "execution_count": 691,
     "metadata": {},
     "output_type": "execute_result"
    }
   ],
   "source": [
    "knn.calculate_distance([10,20,30,1,2,3,4], [30,40,40,1,2,3,5])"
   ]
  },
  {
   "cell_type": "code",
   "execution_count": 692,
   "metadata": {},
   "outputs": [
    {
     "data": {
      "text/plain": [
       "{2, 5, 10, 20}"
      ]
     },
     "execution_count": 692,
     "metadata": {},
     "output_type": "execute_result"
    }
   ],
   "source": [
    "t= (10,20,2,5,20)\n",
    "set(t)"
   ]
  },
  {
   "cell_type": "code",
   "execution_count": 693,
   "metadata": {},
   "outputs": [
    {
     "data": {
      "text/plain": [
       "20"
      ]
     },
     "execution_count": 693,
     "metadata": {},
     "output_type": "execute_result"
    }
   ],
   "source": [
    "max(t, key=t.count)"
   ]
  },
  {
   "cell_type": "code",
   "execution_count": 694,
   "metadata": {},
   "outputs": [],
   "source": [
    "import random\n",
    "\n",
    "def load_dataset_test(path):\n",
    "    with open(path) as csvfile:\n",
    "        dataset = list(csv.reader(csvfile))\n",
    "    \n",
    "    return dataset\n",
    "\n",
    "def split_train_test_t(dataset, split_ratio=0.3):\n",
    "    dataset = random.sample(dataset, len(dataset))\n",
    "    \n",
    "    #print(len(dataset))\n",
    "    test_ratio = int(len(dataset) * split_ratio)\n",
    "    train_ratio = len(dataset) - test_ratio\n",
    "    \n",
    "    #print(test_ratio, train_ratio)\n",
    "    \n",
    "    test_data = dataset[test_ratio:]\n",
    "    train_data = dataset[:test_ratio]\n",
    "    #print((test_data[:3]), (train_data[:3]))\n",
    "    \n",
    "    # Remove o último elemento\n",
    "    test_X = [data[:4] for data in test_data]\n",
    "    test_y = [data[4] for data in test_data]\n",
    "    train_X = [data[:4] for data in train_data]\n",
    "    train_y = [data[4] for data in train_data]\n",
    "    \n",
    "    return train_X, train_y, test_X, test_y"
   ]
  },
  {
   "cell_type": "code",
   "execution_count": 695,
   "metadata": {},
   "outputs": [],
   "source": [
    "def euclidean_distance(point_p, point_q):\n",
    "    square_of_diffs = lambda p_i, q_i: (float(q_i) - float(p_i)) ** 2\n",
    "    distance = list(map(square_of_diffs, point_p, point_q))\n",
    "    return math.sqrt(sum(distance))\n",
    "\n",
    "def k_nearest_neighbors(train_set, test_instance, k=3):\n",
    "    distance = [euclidean_distance(X, test_instance) for X in train_set]\n",
    "    print(distance)\n",
    "    return sorted(range(len(distance)), key=lambda i: distance[i])[:k]\n",
    "\n",
    "def predict(train_y, k_neighbors):\n",
    "    knn_labels = [train_y[i] for i in k_neighbors]\n",
    "    print(knn_labels)\n",
    "    print(set(knn_labels))\n",
    "    return max(set(knn_labels), key=knn_labels.count)"
   ]
  },
  {
   "cell_type": "code",
   "execution_count": 696,
   "metadata": {},
   "outputs": [
    {
     "name": "stdout",
     "output_type": "stream",
     "text": [
      "[0.4690415759823426, 0.17320508075688784, 0.31622776601683805, 0.3162277660168386, 0.529150262212918, 1.0099504938362076, 0.4795831523312723, 0.3316624790355397, 0.5567764362830023, 0.0]\n"
     ]
    },
    {
     "data": {
      "text/plain": [
       "[9, 1, 2]"
      ]
     },
     "execution_count": 696,
     "metadata": {},
     "output_type": "execute_result"
    }
   ],
   "source": [
    "t1 = ([[5.1, 3.5, 1.4, 0.2],\n",
    "       [4.9, 3. , 1.4, 0.2],\n",
    "       [4.7, 3.2, 1.3, 0.2],\n",
    "       [4.6, 3.1, 1.5, 0.2],\n",
    "       [5. , 3.6, 1.4, 0.2],\n",
    "       [5.4, 3.9, 1.7, 0.4],\n",
    "       [4.6, 3.4, 1.4, 0.3],\n",
    "       [5. , 3.4, 1.5, 0.2],\n",
    "       [4.4, 2.9, 1.4, 0.2],\n",
    "       [4.9, 3.1, 1.5, 0.1]])\n",
    "t2 = [4.9, 3.1, 1.5, 0.1]\n",
    "t3 = [1,0,1,1,0,1,1,1,1,0]\n",
    "[0, 0, 1, 1, 0, 1, 1, 0, 1, 0]\n",
    "s = k_nearest_neighbors(t1, t2, k=3)\n",
    "s"
   ]
  },
  {
   "cell_type": "code",
   "execution_count": 697,
   "metadata": {},
   "outputs": [
    {
     "name": "stdout",
     "output_type": "stream",
     "text": [
      "[0, 0, 1]\n",
      "{0, 1}\n"
     ]
    },
    {
     "data": {
      "text/plain": [
       "0"
      ]
     },
     "execution_count": 697,
     "metadata": {},
     "output_type": "execute_result"
    }
   ],
   "source": [
    "predict(t3, s)"
   ]
  },
  {
   "cell_type": "code",
   "execution_count": 698,
   "metadata": {},
   "outputs": [],
   "source": [
    "bb = [0.4690415759823426, 0.17320508075688784, 0.31622776601683805, 0.3162277660168386, 0.529150262212918, 1.0099504938362076, 0.4795831523312723, 0.3316624790355397, 0.5567764362830023, 0.0]"
   ]
  },
  {
   "cell_type": "code",
   "execution_count": 699,
   "metadata": {},
   "outputs": [
    {
     "data": {
      "text/plain": [
       "[9, 1, 2]"
      ]
     },
     "execution_count": 699,
     "metadata": {},
     "output_type": "execute_result"
    }
   ],
   "source": [
    "sorted(range(len(bb)), key=lambda i: bb[i])[:3]"
   ]
  },
  {
   "cell_type": "code",
   "execution_count": 700,
   "metadata": {},
   "outputs": [
    {
     "data": {
      "text/plain": [
       "[0, 1, 2]"
      ]
     },
     "execution_count": 700,
     "metadata": {},
     "output_type": "execute_result"
    }
   ],
   "source": [
    "sorted(range(len(bb)))[:3] #Pega os três primeiros"
   ]
  },
  {
   "cell_type": "code",
   "execution_count": 701,
   "metadata": {},
   "outputs": [
    {
     "data": {
      "text/plain": [
       "[9, 1, 2, 3, 7, 0, 6, 4, 8, 5]"
      ]
     },
     "execution_count": 701,
     "metadata": {},
     "output_type": "execute_result"
    }
   ],
   "source": [
    "sorted(range(len(bb)), key=lambda i:bb[i])"
   ]
  },
  {
   "cell_type": "code",
   "execution_count": 702,
   "metadata": {},
   "outputs": [],
   "source": [
    "knn.fit(t1,t3)"
   ]
  },
  {
   "cell_type": "code",
   "execution_count": 703,
   "metadata": {
    "scrolled": true
   },
   "outputs": [
    {
     "data": {
      "text/plain": [
       "[0.0,\n",
       " 0.5385164807134502,\n",
       " 0.509901951359278,\n",
       " 0.648074069840786,\n",
       " 0.1414213562373093,\n",
       " 0.6164414002968979,\n",
       " 0.5196152422706632,\n",
       " 0.17320508075688762,\n",
       " 0.9219544457292882,\n",
       " 0.4690415759823426]"
      ]
     },
     "execution_count": 703,
     "metadata": {},
     "output_type": "execute_result"
    }
   ],
   "source": [
    "res = knn.compara_distancias([5.1, 3.5, 1.4, 0.2])\n",
    "res"
   ]
  },
  {
   "cell_type": "code",
   "execution_count": 704,
   "metadata": {},
   "outputs": [
    {
     "data": {
      "text/plain": [
       "[0, 4, 7]"
      ]
     },
     "execution_count": 704,
     "metadata": {},
     "output_type": "execute_result"
    }
   ],
   "source": [
    "res2 = knn.encontra_menor_distancia(res)\n",
    "res2"
   ]
  },
  {
   "cell_type": "code",
   "execution_count": 705,
   "metadata": {},
   "outputs": [
    {
     "data": {
      "text/plain": [
       "[1, 0, 1]"
      ]
     },
     "execution_count": 705,
     "metadata": {},
     "output_type": "execute_result"
    }
   ],
   "source": [
    "res3 = knn.encontra_label(res2)\n",
    "res3"
   ]
  },
  {
   "cell_type": "code",
   "execution_count": 706,
   "metadata": {},
   "outputs": [
    {
     "data": {
      "text/plain": [
       "1"
      ]
     },
     "execution_count": 706,
     "metadata": {},
     "output_type": "execute_result"
    }
   ],
   "source": [
    "res4 = knn.predict_label(res3)\n",
    "res4"
   ]
  },
  {
   "cell_type": "code",
   "execution_count": 707,
   "metadata": {},
   "outputs": [
    {
     "data": {
      "text/plain": [
       "[1, 0, 1, 1, 1, 1, 1, 1, 1, 0]"
      ]
     },
     "execution_count": 707,
     "metadata": {},
     "output_type": "execute_result"
    }
   ],
   "source": [
    "res5 = knn.predict(t1)\n",
    "res5"
   ]
  },
  {
   "cell_type": "code",
   "execution_count": 708,
   "metadata": {},
   "outputs": [
    {
     "name": "stdout",
     "output_type": "stream",
     "text": [
      "120 120 30 30\n",
      "[['6.0', '3.4', '4.5', '1.6'], ['6.4', '3.2', '4.5', '1.5'], ['6.9', '3.1', '5.1', '2.3']] \n",
      " ['Iris-versicolor', 'Iris-versicolor', 'Iris-virginica'] \n",
      " [['5.5', '3.5', '1.3', '0.2'], ['7.6', '3.0', '6.6', '2.1'], ['5.8', '2.7', '5.1', '1.9']] \n",
      " ['Iris-setosa', 'Iris-virginica', 'Iris-virginica']\n"
     ]
    }
   ],
   "source": [
    "ma = ManupulaArquivo()\n",
    "dataset = ma.load_dataset(\"iris.data\")\n",
    "train_X, train_y, test_X, test_y = ma.split_train_test(dataset, split_ratio=0.2)\n",
    "print(len(train_X), len(train_y), len(test_X), len(test_y))\n",
    "print(train_X[:3], '\\n', train_y[:3], '\\n', test_X[:3], '\\n', test_y[:3])"
   ]
  },
  {
   "cell_type": "code",
   "execution_count": 709,
   "metadata": {},
   "outputs": [
    {
     "name": "stdout",
     "output_type": "stream",
     "text": [
      "120\n"
     ]
    }
   ],
   "source": [
    "knn.fit(train_X,train_y)\n",
    "print(len(train_X))"
   ]
  },
  {
   "cell_type": "code",
   "execution_count": 710,
   "metadata": {},
   "outputs": [
    {
     "name": "stdout",
     "output_type": "stream",
     "text": [
      "['Iris-setosa', 'Iris-virginica', 'Iris-virginica', 'Iris-versicolor', 'Iris-setosa', 'Iris-versicolor', 'Iris-versicolor', 'Iris-setosa', 'Iris-setosa', 'Iris-setosa', 'Iris-versicolor', 'Iris-versicolor', 'Iris-versicolor', 'Iris-versicolor', 'Iris-virginica', 'Iris-versicolor', 'Iris-setosa', 'Iris-versicolor', 'Iris-setosa', 'Iris-versicolor', 'Iris-versicolor', 'Iris-versicolor', 'Iris-virginica', 'Iris-setosa', 'Iris-versicolor', 'Iris-virginica', 'Iris-setosa', 'Iris-setosa', 'Iris-versicolor', 'Iris-setosa']\n"
     ]
    }
   ],
   "source": [
    "result = knn.predict(test_X)\n",
    "print(result)"
   ]
  },
  {
   "cell_type": "code",
   "execution_count": 711,
   "metadata": {},
   "outputs": [
    {
     "name": "stdout",
     "output_type": "stream",
     "text": [
      "Quantidade de Treinos: 120\n",
      "Quantidade de Testes: 30\n",
      "Quantidade de Acertos: 30\n",
      "Quantidade de Erros: 0\n",
      "Acurácia do Modelo: 100.00%\n"
     ]
    }
   ],
   "source": [
    "knn.accuracy_report(result, test_y)"
   ]
  },
  {
   "cell_type": "code",
   "execution_count": 712,
   "metadata": {},
   "outputs": [
    {
     "name": "stdout",
     "output_type": "stream",
     "text": [
      "Real: Iris-setosa \t Predito: Iris-setosa\n",
      "Real: Iris-virginica \t Predito: Iris-virginica\n",
      "Real: Iris-virginica \t Predito: Iris-virginica\n",
      "Real: Iris-versicolor \t Predito: Iris-versicolor\n",
      "Real: Iris-setosa \t Predito: Iris-setosa\n",
      "Real: Iris-versicolor \t Predito: Iris-versicolor\n",
      "Real: Iris-versicolor \t Predito: Iris-versicolor\n",
      "Real: Iris-setosa \t Predito: Iris-setosa\n",
      "Real: Iris-setosa \t Predito: Iris-setosa\n",
      "Real: Iris-setosa \t Predito: Iris-setosa\n",
      "Real: Iris-versicolor \t Predito: Iris-versicolor\n",
      "Real: Iris-versicolor \t Predito: Iris-versicolor\n",
      "Real: Iris-versicolor \t Predito: Iris-versicolor\n",
      "Real: Iris-versicolor \t Predito: Iris-versicolor\n",
      "Real: Iris-virginica \t Predito: Iris-virginica\n",
      "Real: Iris-versicolor \t Predito: Iris-versicolor\n",
      "Real: Iris-setosa \t Predito: Iris-setosa\n",
      "Real: Iris-versicolor \t Predito: Iris-versicolor\n",
      "Real: Iris-setosa \t Predito: Iris-setosa\n",
      "Real: Iris-versicolor \t Predito: Iris-versicolor\n",
      "Real: Iris-versicolor \t Predito: Iris-versicolor\n",
      "Real: Iris-versicolor \t Predito: Iris-versicolor\n",
      "Real: Iris-virginica \t Predito: Iris-virginica\n",
      "Real: Iris-setosa \t Predito: Iris-setosa\n",
      "Real: Iris-versicolor \t Predito: Iris-versicolor\n",
      "Real: Iris-virginica \t Predito: Iris-virginica\n",
      "Real: Iris-setosa \t Predito: Iris-setosa\n",
      "Real: Iris-setosa \t Predito: Iris-setosa\n",
      "Real: Iris-versicolor \t Predito: Iris-versicolor\n",
      "Real: Iris-setosa \t Predito: Iris-setosa\n"
     ]
    }
   ],
   "source": [
    "prediction_report(result, test_y)"
   ]
  },
  {
   "cell_type": "code",
   "execution_count": null,
   "metadata": {},
   "outputs": [],
   "source": []
  },
  {
   "cell_type": "code",
   "execution_count": null,
   "metadata": {},
   "outputs": [],
   "source": []
  }
 ],
 "metadata": {
  "kernelspec": {
   "display_name": "Python 3",
   "language": "python",
   "name": "python3"
  },
  "language_info": {
   "codemirror_mode": {
    "name": "ipython",
    "version": 3
   },
   "file_extension": ".py",
   "mimetype": "text/x-python",
   "name": "python",
   "nbconvert_exporter": "python",
   "pygments_lexer": "ipython3",
   "version": "3.7.2"
  }
 },
 "nbformat": 4,
 "nbformat_minor": 2
}
