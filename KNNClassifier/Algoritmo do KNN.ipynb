{
 "cells": [
  {
   "cell_type": "markdown",
   "metadata": {},
   "source": [
    "## Implementação do Algorítmo KNN com funções básicas do Python\n",
    "##### Implementado por: Augusto Modesto"
   ]
  },
  {
   "cell_type": "markdown",
   "metadata": {},
   "source": [
    "#### Algumas observações quanto ao exercício:\n",
    "\n",
    "##### 1- Foram utilizadas apenas funções básicas do python para implementação do algorítmo, com exceção de algumas bibliotecas específicas.\n",
    "##### 2- Foram utilizados métodos atômicos nas classes criadas para facilitar possíveis testes unitários.\n",
    "##### 3- Foram criadas duas classes para realizar o exercício.\n",
    "##### 4- Foram criados dois casos de testes para testar o código do algorítmo criado\n",
    "##### 5- Foram comparados os dois casos de testes do modelo criado com outros dois casos de testes utilizando a biblioteca sklearn (final do notebook)"
   ]
  },
  {
   "cell_type": "markdown",
   "metadata": {},
   "source": [
    "### Bibliotecas essenciais para construção do algorítmo"
   ]
  },
  {
   "cell_type": "code",
   "execution_count": 1295,
   "metadata": {},
   "outputs": [],
   "source": [
    "import math # Utilizada para calcular a raiz quadrada\n",
    "import csv # Utilizada para abrir o arquivo CSV e carregar na memória\n",
    "import random # Utilizada para gerar uma aleatoriedade para separar as bases de treino e teste"
   ]
  },
  {
   "cell_type": "markdown",
   "metadata": {},
   "source": [
    "### Classes para execução do exercício"
   ]
  },
  {
   "cell_type": "markdown",
   "metadata": {},
   "source": [
    "#### Classe para manipulação de arquivos e dados:"
   ]
  },
  {
   "cell_type": "code",
   "execution_count": 1296,
   "metadata": {},
   "outputs": [],
   "source": [
    "class ManipulatesFileData:\n",
    "    '''\n",
    "    Esta classe é responsável por fornecer métodos que permitam a manipulação de arquivos e dados para\n",
    "    trabalhar, especificamente, com algorítmos de Machine Learning (ML).\n",
    "    \n",
    "    Lista de Atributos:\n",
    "        N/A\n",
    "    \n",
    "    Lista de Métodos Públicos:\n",
    "        load_dataset = carrega um dataset na memoria.\n",
    "        train_test_split = separa um dataset em duas listas (variáveis repostas e variáveis preditoras) de treino\n",
    "                           e duas listas (variáveis repostas e variáveis preditoras) de teste, utilizando o método\n",
    "                           de validação cruzada holdout.\n",
    "        detail_datasets_train_test = apresenta na tela um detalhamento das listas de treino e teste\n",
    "    \n",
    "    Lista de Métodos Privados:\n",
    "        __shuffle_dataset = randomiza um dataset.\n",
    "        __separate_dataset = separa o dataset em duas listas de treino e teste.\n",
    "        __remove_predictor_element = remove o elemento preditor das lista de treino e teste.\n",
    "    '''\n",
    "    \n",
    "    def load_dataset(self, path_file):\n",
    "        '''\n",
    "        Método público que carrega um csv na memória do nootbook.\n",
    "        Retorna a base de dados em formato de lista.\n",
    "        \n",
    "        Args:\n",
    "            path_file(str): O caminho do arquivo CSV. Caso esteja na mesma pasta do nootbook, basta inserir o\n",
    "                            nome do arquivo. Não é necessário adicionar a extensão do arquivo (.csv).\n",
    "        \n",
    "        Returns:\n",
    "            dataset(list): Uma lista com os dados do CSV de entrada carregado na memória.\n",
    "        '''\n",
    "        with open(path_file) as csv_file:\n",
    "            dataset = list(csv.reader(csv_file))\n",
    "        return dataset\n",
    "\n",
    "    def __shuffle_dataset(self, dataset, test_ratio):\n",
    "        '''\n",
    "        Método privado que embaralha o dataset, isto é, randomiza a base de dados.\n",
    "        Retorna a base de dados randomizada e a proporção da base para teste do modelo.\n",
    "        \n",
    "        Args:\n",
    "            dataset(list): A base de dados contendo os dados em formato de lista carregados na memória.\n",
    "            \n",
    "            test_ratio(float): Tamanho (proporção) da base de teste em valor percentual.\n",
    "            \n",
    "        Returns:\n",
    "            shuffled_dataset(list): Uma lista com os dados do dataset randomizados (embaralhados).\n",
    "            \n",
    "            test_size(int): Tamanho (inteiro) da base de dados em valor absoluto (Ex: 200 linhas do dataset randomizado). \n",
    "        '''\n",
    "        shuffled_dataset = random.sample(dataset, len(dataset))\n",
    "        test_size = int(len(dataset) * test_ratio)        \n",
    "        return shuffled_dataset, test_size \n",
    "    \n",
    "    def __separate_dataset(self, shuffled_dataset, test_size):\n",
    "        '''\n",
    "        Método privado que separa um dataset, preferencialmente randomizado (embaralhados), em duas lista: uma para treino\n",
    "        e outra para teste.\n",
    "        Retorna as duas listas de treino e teste.\n",
    "        \n",
    "        Args:\n",
    "            shuffled_dataset(list): Uma lista com os dados do dataset, preferencialmente randomizados (embaralhados).\n",
    "            \n",
    "            test_size(float): Tamanho (proporção) da base de teste.\n",
    "            \n",
    "        Returns:\n",
    "            train_data(list): Uma lista com os dados para treinamento do modelo, de acordo com a proporção\n",
    "            fornecida de teste.\n",
    "            \n",
    "            test_data(list): Uma lista com os dados para teste do modelo, de acordo com a proporção\n",
    "            fornecida de teste.\n",
    "        '''\n",
    "        test_data = shuffled_dataset[:test_size]\n",
    "        train_data = shuffled_dataset[test_size:]\n",
    "        return train_data, test_data\n",
    "    \n",
    "    def __remove_predictor_element(self, train_data, test_data):\n",
    "        '''\n",
    "        Método privado que remove o elemento preditor, considerando como sendo o último elemento, do dataset.\n",
    "        Retorna quatro lista contendo os elementos seletores (varíaveis respostas) e os valores preditores\n",
    "        de treino e teste.\n",
    "        \n",
    "        Args:\n",
    "            train_data(list): Uma lista com os dados para treinamento do modelo, de acordo com a proporção\n",
    "            fornecida de teste.\n",
    "            \n",
    "            test_data(list): Uma lista com os dados para teste do modelo, de acordo com a proporção\n",
    "            fornecida de teste.\n",
    "        \n",
    "        Returns:\n",
    "            train_x(list): Uma lista contendo os elementos seletores (varíaveis respostas) da lista de treino.\n",
    "            \n",
    "            train_y(list): Uma lista contendo os elementos preditores (varíaveis preditoras) da lista de treino.\n",
    "            \n",
    "            test_x(list): Uma lista contendo os elementos seletores (varíaveis respostas) da lista de teste.\n",
    "            \n",
    "            test_y(list): Uma lista contendo os elementos preditores (varíaveis preditoras) da lista de teste.\n",
    "        '''\n",
    "        last_element = -1\n",
    "        train_x = [sample[:last_element] for sample in train_data]\n",
    "        train_y = [sample[last_element] for sample in train_data]\n",
    "        test_x = [sample[:last_element] for sample in test_data]\n",
    "        test_y = [sample[last_element] for sample in test_data]\n",
    "        return train_x, train_y, test_x, test_y\n",
    "    \n",
    "    def train_test_split(self, dataset, test_ratio=0.3):\n",
    "        '''\n",
    "        Método público que separa uma base de dados em quatro listas para treino e teste de um modelo de machine learning\n",
    "        utilizando o método de validação cruzada holdout.\n",
    "        Retorna quatro lista contendo os elementos seletores (varíaveis respostas) e os valores preditores\n",
    "        de treino e teste.\n",
    "        \n",
    "        Args:\n",
    "            dataset(list): A base de dados contendo os dados em formato de lista carregados na memória.\n",
    "            \n",
    "            test_ratio(float): Tamanho (proporção) da base de teste em valor percentual. Por default o valor\n",
    "            desta variável é 0.3 (30%).\n",
    "        \n",
    "        Returns:\n",
    "            train_x(list): Uma lista contendo os elementos seletores (varíaveis respostas) da lista de treino.\n",
    "            \n",
    "            train_y(list): Uma lista contendo os elementos preditores (varíaveis preditoras) da lista de treino.\n",
    "            \n",
    "            test_x(list): Uma lista contendo os elementos seletores (varíaveis respostas) da lista de teste.\n",
    "            \n",
    "            test_y(list): Uma lista contendo os elementos preditores (varíaveis preditoras) da lista de teste.\n",
    "        '''\n",
    "        shuffled_dataset, test_size = self.__shuffle_dataset(dataset, test_ratio)\n",
    "        train_data, test_data = self.__separate_dataset(shuffled_dataset, test_size)\n",
    "        train_x, train_y, test_x, test_y = self.__remove_predictor_element(train_data, test_data)\n",
    "        return train_x, train_y, test_x, test_y\n",
    "    \n",
    "    def detail_datasets_train_test(self, train_x, train_y, test_x, test_y):\n",
    "        '''\n",
    "        Método público que apresenta na tela um breve detalhamento das listas de treino (train) e teste (test)\n",
    "        Não há retorno para este método.\n",
    "        \n",
    "        Args:\n",
    "            train_x(list): Uma lista contendo os elementos seletores (varíaveis respostas) da lista de treino.\n",
    "            \n",
    "            train_y(list): Uma lista contendo os elementos preditores (varíaveis preditoras) da lista de treino.\n",
    "            \n",
    "            test_x(list): Uma lista contendo os elementos seletores (varíaveis respostas) da lista de teste.\n",
    "            \n",
    "            test_y(list): Uma lista contendo os elementos preditores (varíaveis preditoras) da lista de teste.\n",
    "        \n",
    "        Returns:\n",
    "            N/A\n",
    "        '''\n",
    "        print('Tamanho de train_x:', len(train_x), 'Tamanho de train_y:', len(train_y),\n",
    "              '\\nTamanho de test_x:', len(test_x), 'Tamanho de test_y:', len(test_y))\n",
    "\n",
    "        print('\\nPrimeiros valores de train_x:\\n', train_x[:3],\n",
    "              '\\nPrimeiros valores de train_y:\\n', train_y[:3],\n",
    "              '\\nPrimeiros valores de test_x:\\n', test_x[:3],\n",
    "              '\\nPrimeiros valores de test_y:\\n', test_y[:3])"
   ]
  },
  {
   "cell_type": "markdown",
   "metadata": {},
   "source": [
    "#### Classe contendo os principais métodos do algorítmo KNN:"
   ]
  },
  {
   "cell_type": "code",
   "execution_count": 1340,
   "metadata": {},
   "outputs": [],
   "source": [
    "class KNeighborsClassifier:\n",
    "    '''\n",
    "    Esta classe contém os métodos para utilização do classificador KNN (k-nearest neighbors). O nome\n",
    "    'KNeighborsClassifier' desta classe foi utilizado para manter o mesmo padrão do classificador original\n",
    "    (classe KNeighborsClassifier).\n",
    "    \n",
    "    Lista de Atributos:\n",
    "        k(int) = é o valor de k do classificador KNN. Neste classificador, K representa o k-ésimo vizinho mais\n",
    "                 próximo das amostras da base de treino.\n",
    "\n",
    "        distance_calculation_method(str) = é o método de cálculo da distância entre os pontos do plano (amostras\n",
    "                                           treino).\n",
    "        \n",
    "        x_train(list) = é a lista de pontos utilizada para o 'treino' do algorítmo. Embora, o classificador KNN\n",
    "                        não realize o treino das instâncias de teste, mas é necessário armazenar os pontos de \n",
    "                        treino na memória do programa para que seja possível calcular a distância entre os pontos\n",
    "                        de treino e teste.\n",
    "        \n",
    "        y_train(list) = é a lista de pontos contendo os resultados de treino. Podem assumir os tipos str, int\n",
    "                        ou float.\n",
    "    \n",
    "    Lista de Métodos Públicos:\n",
    "        __init__ = inicializa as variáveis k e distance_calculation_method.\n",
    "        fit = treina o modelo com base no dataset de entrada.\n",
    "        predict = prediz os valores do dataset de teste com base no treino realizado com a função .fit().\n",
    "        prediction_report = apresenta um relatório dos resultados da predição.\n",
    "        accuracy_report = apresenta um relatório da acurácia da predição.\n",
    "        confusion_matrix = apresenta uma matriz de confução da predição.\n",
    "        \n",
    "    \n",
    "    Lista de Métodos Privados:\n",
    "        __calculate_distance = cálcula a distância de dois pontos (p e q).\n",
    "        __append_distance = realiza um append numa lista dos resultados do cálculo de distância.\n",
    "        __find_shorter_distance = encontra as menores distância numa lista de acordo com o valor da variável k.\n",
    "        __find_label = encontra as labels da lista de entrada.\n",
    "        __predict_label = realiza a predição da label conforme lista de entrada.\n",
    "        __discretize_predictors = discretiza os valores das listas de entrada.\n",
    "    \n",
    "    '''\n",
    "\n",
    "    def __init__(self, k=3, distance_calculation_method='euclidean'):\n",
    "        '''\n",
    "        Método público utilizado para inicializar as principais variáveis do classificador.\n",
    "        Não há retorno para este método.\n",
    "        \n",
    "        Args:\n",
    "            k(int): é o valor de k do classificador KNN. Neste classificador, K representa o k-ésimo vizinho mais\n",
    "                    próximo das amostras da base de treino. Por default o valor de k é 3.\n",
    "\n",
    "            distance_calculation_method(str): é o método de cálculo da distância entre os pontos do plano (amostras\n",
    "                                              treino). Por default o valor de distance_calculation_method é\n",
    "                                              'euclidean'.\n",
    "        \n",
    "        Returns:\n",
    "            N/A\n",
    "        '''\n",
    "        self.k = k\n",
    "        self.distance_calculation_method = distance_calculation_method\n",
    "    \n",
    "    def fit(self, x_train, y_train):\n",
    "        '''\n",
    "        Método público utilizado para setar (inicializar) a base de dados de train (variáveis resultados e\n",
    "        preditoras). Embora, o classificador KNN não realize o treino das instâncias de teste, mas é necessário\n",
    "        armazenar os pontos de treino na memória do programa para que seja possível calcular a distância entre\n",
    "        os pontos de treino e teste. O nome 'fit' foi utilizado para manter o mesmo padrão do classificador\n",
    "        original (classe KNeighborsClassifier).\n",
    "        Não há retorno para este método.\n",
    "        \n",
    "        Args:\n",
    "            x_train(list): é a lista de pontos utilizada para o 'treino' do algorítmo. Embora, o classificador KNN\n",
    "                           não realize o treino das instâncias de teste, mas é necessário armazenar os pontos de \n",
    "                           treino na memória do programa para que seja possível calcular a distância entre os\n",
    "                           pontos de treino e teste.\n",
    "        \n",
    "            y_train(list): é a lista de pontos contendo os resultados de treino. Podem assumir os tipos str,\n",
    "                           int ou float.\n",
    "        \n",
    "        Returns:\n",
    "            N/A\n",
    "        '''\n",
    "        self.x_train = x_train\n",
    "        self.y_train = y_train\n",
    "    \n",
    "    def __calculate_distance(self, point_p, point_q):\n",
    "        '''\n",
    "        Método privado utilizado para cálcular a distância entre dois pontos (point_p e point_q). É possível\n",
    "        calcular a distância utilizando dois métodos distintos: a distância euclidiana; e a distância de manhattan.\n",
    "        Para isso, se deve setar corretamente a variável distance_calculation_method.\n",
    "        A distância euclidiana é dada por: raiz quadrada do somatório da diferença entre os pontos p e q elevados\n",
    "        ao quadrado. Fórmula: sqrt(sum_points), onde sum_points += (float(point_p[i]) - float(point_q[i]))**2.\n",
    "        A distância de manhattan é dada por: somatório do módulo da diferença entre os pontos p e q.\n",
    "        Fórmula: sum_points += abs(float(point_p[i]) - float(point_q[i])).\n",
    "        Retorna o resultado do cálculo da distância de dois pontos (p e q).\n",
    "        \n",
    "        Args:\n",
    "            point_p(list): é a lista de pontos (variáveis resultados) do i-ésimo elemento de treino, onde i\n",
    "                            corresponde a um sample.\n",
    "        \n",
    "            point_q(list): é a lista de pontos (variáveis resultados) do i-ésimo elemento de teste, onde i\n",
    "                            corresponde a um sample. Essa varíavel corresponde a instância de teste corrente\n",
    "                            (a instância de teste a ser calculada sua distância em relação aos i-ésimos elementos\n",
    "                            de treino).\n",
    "        \n",
    "        Returns:\n",
    "            calculation_result(float): é o resultado (float) do cálculo da distância dos pontos p e q. \n",
    "        '''\n",
    "        sum_points = 0\n",
    "        calculation_result = 0\n",
    "        dimension_point = len(point_p)\n",
    "        \n",
    "        # Cálculo da distância euclidiana. Fonte: https://pt.wikipedia.org/wiki/Dist%C3%A2ncia_euclidiana\n",
    "        if self.distance_calculation_method == 'euclidean': \n",
    "            for i in range(dimension_point):\n",
    "                sum_points += (float(point_p[i]) - float(point_q[i]))**2\n",
    "            calculation_result = math.sqrt(sum_points)\n",
    "        \n",
    "        # Cálculo da distância de manhattam. Fonte: https://pt.wikipedia.org/wiki/Geometria_pombalina\n",
    "        elif self.distance_calculation_method == 'manhattan':\n",
    "            for i in range(dimension_point):\n",
    "                sum_points += abs(float(point_p[i]) - float(point_q[i]))\n",
    "            calculation_result = sum_points\n",
    "        \n",
    "        return calculation_result\n",
    "    \n",
    "    def __append_distance(self, instance_test):\n",
    "        '''\n",
    "        Método privado que realizar um append (adiciona um elemento a lista) nos resultados do cálculo da \n",
    "        distância dos pontos p e q de cada sample.\n",
    "        Retorna uma lista contendo todos os resultados do cálculo da distância de dois pontos (p e q) de cada\n",
    "        sample.\n",
    "        \n",
    "        Args:\n",
    "            instance_test(list): é um sample da lista de teste. Contém os valores das varíaveis resultados de\n",
    "            uma instância de teste (sample).\n",
    "            \n",
    "        Returns:\n",
    "            append_result(list): é uma lista contendo todos os resultados do cálculo da distância de dois\n",
    "            pontos (p e q) de cada sample de entrada.\n",
    "        '''\n",
    "        append_result = []\n",
    "        dimension_x_train = len(self.x_train)\n",
    "        for sample in range(dimension_x_train):\n",
    "            append_result.append(self.__calculate_distance(self.x_train[sample], instance_test))\n",
    "        return append_result\n",
    "    \n",
    "    def __find_shorter_distance(self, distance_result):\n",
    "        '''\n",
    "        Método privado que encontra a menor distância da lista de resultado de cálculo da distâncias entre dois\n",
    "        pontos (p e q).\n",
    "        Retorna os k elementos de menor valor do vetor de entrada.\n",
    "        \n",
    "        Args:\n",
    "            distance_result(list): é uma lista contendo todos os resultados do cálculo da distância entre dois\n",
    "            pontos (p e q).\n",
    "        \n",
    "        Returns:\n",
    "            k_shorter_distances(list): é uma lista com os k menores distâncias da lista de entrada.      \n",
    "        '''\n",
    "        ranged_distance_result = range(len(distance_result))\n",
    "        k_shorter_distances = sorted(ranged_distance_result, key=lambda i: distance_result[i])[:self.k]\n",
    "        return k_shorter_distances\n",
    "    \n",
    "    def __find_label(self, k_shorter_distances):\n",
    "        '''\n",
    "        Método privado que encontra as labels da lista de k menores distâncias.\n",
    "        Retorna uma lista com os labels dos k menores distâncias da lista de entrada.\n",
    "        \n",
    "        Args:\n",
    "            k_shorter_distances(list): é uma lista com os k menores distâncias.\n",
    "        \n",
    "        Returns:\n",
    "            k_labels(list): é uma lista com os labels dos k menores distâncias da lista de entrada.\n",
    "        '''\n",
    "        k_labels = []\n",
    "        for i in k_shorter_distances:\n",
    "            k_labels.append(self.y_train[i])\n",
    "        return k_labels\n",
    "    \n",
    "    def __predict_label(self, labels_k):\n",
    "        '''\n",
    "        Método privado que cálcula, utilizando a função max(..., key=labels_k.count), a quantidade de labels\n",
    "        mais frequente na lista de labels de entrada.\n",
    "        Retorna a label que apereceu com maior frequência na lista de entrada.\n",
    "        \n",
    "        Args:\n",
    "            labels_k(list): é uma lista com os labels dos k menores distâncias.\n",
    "            \n",
    "        Returns:\n",
    "            max_label(str): é a label que aparece com maior frequência na lista de entrada.\n",
    "        '''\n",
    "        max_label = max(labels_k, key=labels_k.count)\n",
    "        return max_label\n",
    "\n",
    "    def predict(self, x_test):\n",
    "        '''\n",
    "        Método público que realiza a predição da lista de entrada com base no dataset de treino inicializado\n",
    "        com o método fit(). O nome 'predict' foi utilizado para manter o mesmo padrão do classificador original\n",
    "        (classe KNeighborsClassifier).\n",
    "        Retorna uma lista do resultado da predição.\n",
    "        \n",
    "        Args:\n",
    "            x_test(list): é uma lista com as variáveis resultados (x_test) do dataset de teste.\n",
    "            \n",
    "        Returns:\n",
    "            predict_result(list): é uma lista com os resultados da predição da lista de teste de entrada.\n",
    "        '''\n",
    "        predict_result = []\n",
    "        for instance_x_test in x_test:\n",
    "            distance_result = self.__append_distance(instance_x_test)\n",
    "            k_shorter_distances = self.__find_shorter_distance(distance_result)\n",
    "            k_labels = self.__find_label(k_shorter_distances)\n",
    "            max_label = self.__predict_label(k_labels)\n",
    "            predict_result.append(max_label)                \n",
    "        return predict_result\n",
    "    \n",
    "    def prediction_report(self, predictions, y_test):\n",
    "        '''\n",
    "        Método público que apresenta na tela o resultado da predição de cada sample. Seguinte o padrão:\n",
    "        Teste Nº: [sample]        Real: [valor real]        Predito: [valor predito]\n",
    "        Não há retorno para este método.\n",
    "        \n",
    "        Args:\n",
    "            predict_result(list): é uma lista com os resultados da predição.\n",
    "        \n",
    "            y_test(list): é a lista de pontos contendo os resultados de teste. Podem assumir os tipos str,\n",
    "                          int ou float.\n",
    "        \n",
    "        Returns:\n",
    "            N/A\n",
    "        '''\n",
    "        for sample, prediction in enumerate(predictions):\n",
    "            print('Teste Nº:', (sample+1) , '\\t Real:', y_test[sample], '\\t Predito:', prediction)\n",
    "\n",
    "    def accuracy_report(self, predictions, y_test):\n",
    "        '''\n",
    "        Método público que apresenta na tela a acurácia do resultado da predição de cada sample. Seguinte\n",
    "        o padrão:\n",
    "        Quantidade de Treinos: [tamanho do dataset de treino]\n",
    "        Quantidade de Testes: [tamanho do dataset de teste]\n",
    "        Quantidade de Acertos: [número de acertos quando o valor do dataset de teste é igual ao valor predito]\n",
    "        Quantidade de Erros: [diferença do tamanho dataset de teste pela quantidade de acertos]\n",
    "        Acurácia do Modelo: [Percentual de acertos em relação a quantidade de elemento no dataset de teste]\n",
    "        Não há retorno para este método.\n",
    "\n",
    "        Args:\n",
    "            predict_result(list): é uma lista com os resultados da predição.\n",
    "        \n",
    "            y_test(list): é a lista de pontos contendo os resultados de teste. Podem assumir os tipos str,\n",
    "                          int ou float.\n",
    "        \n",
    "        Returns:\n",
    "            N/A\n",
    "        '''\n",
    "        hits = 0\n",
    "        for prediction, sample in zip(predictions, y_test):\n",
    "            if prediction == sample:\n",
    "                hits += 1\n",
    "                \n",
    "        print('Quantidade de Treinos:', len(self.x_train))\n",
    "        print('Quantidade de Testes:', len(y_test))\n",
    "        print('Quantidade de Acertos:', hits)\n",
    "        print('Quantidade de Erros:', (len(y_test)-hits))\n",
    "        print('Acurácia do Modelo: %.2f%%' % (hits*100/len(y_test)))\n",
    "    \n",
    "    def __discretize_predictors(self, predictions, y_test):\n",
    "        '''\n",
    "        Método privado que transforma as labels preditivas em valores discretos.\n",
    "        Retorna a quantidade de classes existentes nas labels preditivas e os datasets de preditores e teste\n",
    "        discretizados.\n",
    "        \n",
    "        Args:\n",
    "            predict_result(list): é uma lista com os resultados da predição.\n",
    "        \n",
    "            y_test(list): é a lista de pontos contendo os resultados de teste. Podem assumir os tipos str,\n",
    "                          int ou float.\n",
    "                          \n",
    "        Returns:\n",
    "            quantity_classes(inst): é a quantidade de classes presentes na lista de valores preditos. \n",
    "            \n",
    "            predictors_discrete_list(list): é a lista dos valores preditos discretizados.\n",
    "            \n",
    "            test_discrete_list(list): é a lista de pontos contendo os resultados de teste discretizados.\n",
    "        '''\n",
    "        predictors_discrete_list = []\n",
    "        test_discrete_list = []\n",
    "        class_list = []\n",
    "        \n",
    "        # Verificando as classes existentes em predictions e populando em uma nova lista de classes (class_list)\n",
    "        for sample in predictions:\n",
    "            if sample not in class_list:\n",
    "                class_list.append(sample)\n",
    "        \n",
    "        # Ordenando os valores presentes na lista de classes e contabilizando a quantidade de classes dessa lista\n",
    "        class_list.sort()        \n",
    "        quantity_classes = len(class_list)\n",
    "        \n",
    "        for prediction in predictions:            \n",
    "            predictors_discrete_list.append(class_list.index(prediction))\n",
    "        \n",
    "        for sample in y_test:\n",
    "            test_discrete_list.append(class_list.index(sample))        \n",
    "        \n",
    "        return quantity_classes, predictors_discrete_list, test_discrete_list\n",
    "\n",
    "                \n",
    "    def confusion_matrix(self, predictions, y_test):\n",
    "        '''\n",
    "        Método público que apresenta na tela uma matriz de confução dos valores preditos.\n",
    "        Não há retorno para este método.\n",
    "        \n",
    "        Args:\n",
    "            predict_result(list): é uma lista com os resultados da predição.\n",
    "        \n",
    "            y_test(list): é a lista de pontos contendo os resultados de teste. Podem assumir os tipos str,\n",
    "                          int ou float.\n",
    "        \n",
    "        Returns:\n",
    "            N/A\n",
    "        '''\n",
    "        quantity_classes, predictors_discrete_list, test_discrete_list = self.__discretize_predictors(predictions, y_test)\n",
    "        confusion_matrix = []\n",
    "        center_class = int(quantity_classes/2)\n",
    "        \n",
    "        # Cria uma matriz de confusão de tamanho [NxN] onde N é a quantidade de classes preditoras\n",
    "        for line in range(quantity_classes):\n",
    "            confusion_matrix.append(list())\n",
    "            for aux in range(quantity_classes): \n",
    "                confusion_matrix[line].append(0)\n",
    "        \n",
    "        # Alimenta a matriz de confusão\n",
    "        for prediction, sample in zip(predictors_discrete_list, test_discrete_list):\n",
    "            if prediction == sample:\n",
    "                confusion_matrix[sample][prediction] += 1\n",
    "            else:\n",
    "                confusion_matrix[sample][prediction] += 1\n",
    "        \n",
    "        # Imprime na tela a matriz de confusão em formato de tabela\n",
    "        print('\\t\\tValores Preditos')\n",
    "        print('-----------------------------------')\n",
    "        for current_class in range(quantity_classes):\n",
    "            if current_class == center_class:\n",
    "                print('Valores Reais\\t|', confusion_matrix[current_class], '\\n')\n",
    "            else:\n",
    "                print('\\t\\t|', confusion_matrix[current_class], '\\n')"
   ]
  },
  {
   "cell_type": "markdown",
   "metadata": {},
   "source": [
    "### Realização dos testes das classes criadas"
   ]
  },
  {
   "cell_type": "markdown",
   "metadata": {},
   "source": [
    "#### Carregando a base de dados na memória do programa e criando as listas de treino e teste:\n",
    "##### Utilizando 20% do dataset original como teste (predição) e 80% para treino."
   ]
  },
  {
   "cell_type": "code",
   "execution_count": 1389,
   "metadata": {},
   "outputs": [
    {
     "name": "stdout",
     "output_type": "stream",
     "text": [
      "Tamanho de train_x: 120 Tamanho de train_y: 120 \n",
      "Tamanho de test_x: 30 Tamanho de test_y: 30\n",
      "\n",
      "Primeiros valores de train_x:\n",
      " [['6.1', '3.0', '4.6', '1.4'], ['6.0', '2.9', '4.5', '1.5'], ['4.6', '3.1', '1.5', '0.2']] \n",
      "Primeiros valores de train_y:\n",
      " ['Iris-versicolor', 'Iris-versicolor', 'Iris-setosa'] \n",
      "Primeiros valores de test_x:\n",
      " [['6.3', '3.3', '6.0', '2.5'], ['5.9', '3.0', '5.1', '1.8'], ['5.1', '3.4', '1.5', '0.2']] \n",
      "Primeiros valores de test_y:\n",
      " ['Iris-virginica', 'Iris-virginica', 'Iris-setosa']\n"
     ]
    }
   ],
   "source": [
    "# Instanciando um objeto para inicializar o dataset\n",
    "MFD = ManipulatesFileData()\n",
    "\n",
    "# Carregando o dataset na memória do programa\n",
    "dataset = MFD.load_dataset('iris.data')\n",
    "\n",
    "# Separando as listas de treino e teste\n",
    "train_x, train_y, test_x, test_y = MFD.train_test_split(dataset, test_ratio=0.2)\n",
    "\n",
    "# Apresentando um detalhamento das listas de treino e teste\n",
    "MFD.detail_datasets_train_test(train_x, train_y, test_x, test_y)"
   ]
  },
  {
   "cell_type": "markdown",
   "metadata": {},
   "source": [
    "#### Caso de Teste 1: Utilizando o método euclidiano para cálculo da distância e k impar (5):"
   ]
  },
  {
   "cell_type": "code",
   "execution_count": 1390,
   "metadata": {},
   "outputs": [],
   "source": [
    "# Instanciando o modelo KNN a partir do código criado\n",
    "KNN = KNeighborsClassifier(k=9, distance_calculation_method='euclidean')\n",
    "\n",
    "# Treinando o modelo\n",
    "KNN.fit(train_x, train_y)"
   ]
  },
  {
   "cell_type": "code",
   "execution_count": 1391,
   "metadata": {},
   "outputs": [],
   "source": [
    "# Realizando as predições com base no modelo treinado\n",
    "prediction_result = KNN.predict(test_x)"
   ]
  },
  {
   "cell_type": "code",
   "execution_count": 1392,
   "metadata": {},
   "outputs": [
    {
     "name": "stdout",
     "output_type": "stream",
     "text": [
      "Teste Nº: 1 \t Real: Iris-virginica \t Predito: Iris-virginica\n",
      "Teste Nº: 2 \t Real: Iris-virginica \t Predito: Iris-virginica\n",
      "Teste Nº: 3 \t Real: Iris-setosa \t Predito: Iris-setosa\n",
      "Teste Nº: 4 \t Real: Iris-versicolor \t Predito: Iris-versicolor\n",
      "Teste Nº: 5 \t Real: Iris-setosa \t Predito: Iris-setosa\n",
      "Teste Nº: 6 \t Real: Iris-versicolor \t Predito: Iris-versicolor\n",
      "Teste Nº: 7 \t Real: Iris-virginica \t Predito: Iris-versicolor\n",
      "Teste Nº: 8 \t Real: Iris-versicolor \t Predito: Iris-versicolor\n",
      "Teste Nº: 9 \t Real: Iris-setosa \t Predito: Iris-setosa\n",
      "Teste Nº: 10 \t Real: Iris-setosa \t Predito: Iris-setosa\n",
      "Teste Nº: 11 \t Real: Iris-setosa \t Predito: Iris-setosa\n",
      "Teste Nº: 12 \t Real: Iris-virginica \t Predito: Iris-virginica\n",
      "Teste Nº: 13 \t Real: Iris-virginica \t Predito: Iris-virginica\n",
      "Teste Nº: 14 \t Real: Iris-versicolor \t Predito: Iris-versicolor\n",
      "Teste Nº: 15 \t Real: Iris-versicolor \t Predito: Iris-versicolor\n",
      "Teste Nº: 16 \t Real: Iris-versicolor \t Predito: Iris-versicolor\n",
      "Teste Nº: 17 \t Real: Iris-virginica \t Predito: Iris-virginica\n",
      "Teste Nº: 18 \t Real: Iris-versicolor \t Predito: Iris-versicolor\n",
      "Teste Nº: 19 \t Real: Iris-setosa \t Predito: Iris-setosa\n",
      "Teste Nº: 20 \t Real: Iris-virginica \t Predito: Iris-virginica\n",
      "Teste Nº: 21 \t Real: Iris-virginica \t Predito: Iris-virginica\n",
      "Teste Nº: 22 \t Real: Iris-virginica \t Predito: Iris-virginica\n",
      "Teste Nº: 23 \t Real: Iris-virginica \t Predito: Iris-virginica\n",
      "Teste Nº: 24 \t Real: Iris-setosa \t Predito: Iris-setosa\n",
      "Teste Nº: 25 \t Real: Iris-setosa \t Predito: Iris-setosa\n",
      "Teste Nº: 26 \t Real: Iris-versicolor \t Predito: Iris-versicolor\n",
      "Teste Nº: 27 \t Real: Iris-virginica \t Predito: Iris-versicolor\n",
      "Teste Nº: 28 \t Real: Iris-virginica \t Predito: Iris-virginica\n",
      "Teste Nº: 29 \t Real: Iris-setosa \t Predito: Iris-setosa\n",
      "Teste Nº: 30 \t Real: Iris-versicolor \t Predito: Iris-versicolor\n"
     ]
    }
   ],
   "source": [
    "# Visualizando os testes realizados\n",
    "KNN.prediction_report(prediction_result, test_y)"
   ]
  },
  {
   "cell_type": "code",
   "execution_count": 1393,
   "metadata": {},
   "outputs": [
    {
     "name": "stdout",
     "output_type": "stream",
     "text": [
      "Quantidade de Treinos: 120\n",
      "Quantidade de Testes: 30\n",
      "Quantidade de Acertos: 28\n",
      "Quantidade de Erros: 2\n",
      "Acurácia do Modelo: 93.33%\n"
     ]
    }
   ],
   "source": [
    "# Medindo a acurácia do modelo utilizando as mesmas listas de treino e teste do caso de teste 1\n",
    "KNN.accuracy_report(prediction_result, test_y)"
   ]
  },
  {
   "cell_type": "code",
   "execution_count": 1394,
   "metadata": {},
   "outputs": [
    {
     "name": "stdout",
     "output_type": "stream",
     "text": [
      "\t\tValores Preditos\n",
      "-----------------------------------\n",
      "\t\t| [9, 0, 0] \n",
      "\n",
      "Valores Reais\t| [0, 9, 0] \n",
      "\n",
      "\t\t| [0, 2, 10] \n",
      "\n"
     ]
    }
   ],
   "source": [
    "# Gerando a matriz de confusão\n",
    "KNN.confusion_matrix(prediction_result, test_y)"
   ]
  },
  {
   "cell_type": "markdown",
   "metadata": {},
   "source": [
    "#### Caso de Teste 2: Utilizando o método de manhattan para cálculo da distância e k par (10):\n",
    "##### Utilizando as mesmas listas de treino e teste do caso de teste 1."
   ]
  },
  {
   "cell_type": "code",
   "execution_count": 1395,
   "metadata": {},
   "outputs": [],
   "source": [
    "# Instanciando o modelo KNN a partir do código criado\n",
    "KNN_2 = KNeighborsClassifier(k=10, distance_calculation_method='manhattan')\n",
    "\n",
    "# Treinando o modelo\n",
    "KNN_2.fit(train_x, train_y)"
   ]
  },
  {
   "cell_type": "code",
   "execution_count": 1396,
   "metadata": {},
   "outputs": [],
   "source": [
    "# Realizando as predições com base no modelo treinado\n",
    "prediction_result_2 = KNN_2.predict(test_x)"
   ]
  },
  {
   "cell_type": "code",
   "execution_count": 1397,
   "metadata": {},
   "outputs": [
    {
     "name": "stdout",
     "output_type": "stream",
     "text": [
      "Teste Nº: 1 \t Real: Iris-virginica \t Predito: Iris-virginica\n",
      "Teste Nº: 2 \t Real: Iris-virginica \t Predito: Iris-virginica\n",
      "Teste Nº: 3 \t Real: Iris-setosa \t Predito: Iris-setosa\n",
      "Teste Nº: 4 \t Real: Iris-versicolor \t Predito: Iris-versicolor\n",
      "Teste Nº: 5 \t Real: Iris-setosa \t Predito: Iris-setosa\n",
      "Teste Nº: 6 \t Real: Iris-versicolor \t Predito: Iris-versicolor\n",
      "Teste Nº: 7 \t Real: Iris-virginica \t Predito: Iris-virginica\n",
      "Teste Nº: 8 \t Real: Iris-versicolor \t Predito: Iris-versicolor\n",
      "Teste Nº: 9 \t Real: Iris-setosa \t Predito: Iris-setosa\n",
      "Teste Nº: 10 \t Real: Iris-setosa \t Predito: Iris-setosa\n",
      "Teste Nº: 11 \t Real: Iris-setosa \t Predito: Iris-setosa\n",
      "Teste Nº: 12 \t Real: Iris-virginica \t Predito: Iris-virginica\n",
      "Teste Nº: 13 \t Real: Iris-virginica \t Predito: Iris-virginica\n",
      "Teste Nº: 14 \t Real: Iris-versicolor \t Predito: Iris-versicolor\n",
      "Teste Nº: 15 \t Real: Iris-versicolor \t Predito: Iris-versicolor\n",
      "Teste Nº: 16 \t Real: Iris-versicolor \t Predito: Iris-versicolor\n",
      "Teste Nº: 17 \t Real: Iris-virginica \t Predito: Iris-virginica\n",
      "Teste Nº: 18 \t Real: Iris-versicolor \t Predito: Iris-versicolor\n",
      "Teste Nº: 19 \t Real: Iris-setosa \t Predito: Iris-setosa\n",
      "Teste Nº: 20 \t Real: Iris-virginica \t Predito: Iris-virginica\n",
      "Teste Nº: 21 \t Real: Iris-virginica \t Predito: Iris-virginica\n",
      "Teste Nº: 22 \t Real: Iris-virginica \t Predito: Iris-virginica\n",
      "Teste Nº: 23 \t Real: Iris-virginica \t Predito: Iris-virginica\n",
      "Teste Nº: 24 \t Real: Iris-setosa \t Predito: Iris-setosa\n",
      "Teste Nº: 25 \t Real: Iris-setosa \t Predito: Iris-setosa\n",
      "Teste Nº: 26 \t Real: Iris-versicolor \t Predito: Iris-versicolor\n",
      "Teste Nº: 27 \t Real: Iris-virginica \t Predito: Iris-versicolor\n",
      "Teste Nº: 28 \t Real: Iris-virginica \t Predito: Iris-virginica\n",
      "Teste Nº: 29 \t Real: Iris-setosa \t Predito: Iris-setosa\n",
      "Teste Nº: 30 \t Real: Iris-versicolor \t Predito: Iris-versicolor\n"
     ]
    }
   ],
   "source": [
    "# Visualizando os testes realizados\n",
    "KNN_2.prediction_report(prediction_result_2, test_y)"
   ]
  },
  {
   "cell_type": "code",
   "execution_count": 1398,
   "metadata": {},
   "outputs": [
    {
     "name": "stdout",
     "output_type": "stream",
     "text": [
      "Quantidade de Treinos: 120\n",
      "Quantidade de Testes: 30\n",
      "Quantidade de Acertos: 29\n",
      "Quantidade de Erros: 1\n",
      "Acurácia do Modelo: 96.67%\n"
     ]
    }
   ],
   "source": [
    "# Medindo a acurácia do modelo utilizando as mesmas listas de treino e teste do caso de teste 1\n",
    "KNN_2.accuracy_report(prediction_result_2, test_y)"
   ]
  },
  {
   "cell_type": "code",
   "execution_count": 1399,
   "metadata": {},
   "outputs": [
    {
     "name": "stdout",
     "output_type": "stream",
     "text": [
      "\t\tValores Preditos\n",
      "-----------------------------------\n",
      "\t\t| [9, 0, 0] \n",
      "\n",
      "Valores Reais\t| [0, 9, 0] \n",
      "\n",
      "\t\t| [0, 1, 11] \n",
      "\n"
     ]
    }
   ],
   "source": [
    "# Gerando a matriz de confusão\n",
    "KNN_2.confusion_matrix(prediction_result_2, test_y)"
   ]
  },
  {
   "cell_type": "markdown",
   "metadata": {},
   "source": [
    "### Comparando o algorítmo criado pelo algorítmo no sklearn\n",
    "##### Utilizando as mesmas listas de treino e teste instanciadas no caso de teste 1. "
   ]
  },
  {
   "cell_type": "markdown",
   "metadata": {},
   "source": [
    "#### Importe das bibliotecas necessárias:"
   ]
  },
  {
   "cell_type": "code",
   "execution_count": 1400,
   "metadata": {},
   "outputs": [],
   "source": [
    "from sklearn.metrics import confusion_matrix\n",
    "from sklearn.metrics import classification_report\n",
    "import sklearn.neighbors"
   ]
  },
  {
   "cell_type": "markdown",
   "metadata": {},
   "source": [
    "#### Comparando o caso de teste 1:"
   ]
  },
  {
   "cell_type": "code",
   "execution_count": 1401,
   "metadata": {},
   "outputs": [
    {
     "data": {
      "text/plain": [
       "0.9666666666666667"
      ]
     },
     "execution_count": 1401,
     "metadata": {},
     "output_type": "execute_result"
    }
   ],
   "source": [
    "# Instanciando o modelo KNN com o sklearn\n",
    "KNN_sklearn = sklearn.neighbors.KNeighborsClassifier(n_neighbors = 5)\n",
    "\n",
    "# Treinando o modelo\n",
    "KNN_sklearn.fit(train_x, train_y)\n",
    "\n",
    "# Medindo a acurácia do modelo utilizando as mesmas listas de treino e teste do caso de teste 1\n",
    "KNN_sklearn.score(test_x, test_y)"
   ]
  },
  {
   "cell_type": "code",
   "execution_count": 1402,
   "metadata": {},
   "outputs": [
    {
     "data": {
      "text/plain": [
       "array([[ 9,  0,  0],\n",
       "       [ 0,  9,  0],\n",
       "       [ 0,  1, 11]])"
      ]
     },
     "execution_count": 1402,
     "metadata": {},
     "output_type": "execute_result"
    }
   ],
   "source": [
    "# Gerando a matriz de confusão\n",
    "confusion_matrix(test_y, KNN_sklearn.predict(test_x))"
   ]
  },
  {
   "cell_type": "markdown",
   "metadata": {},
   "source": [
    "#### Comparando o caso de teste 2:"
   ]
  },
  {
   "cell_type": "code",
   "execution_count": 1403,
   "metadata": {},
   "outputs": [
    {
     "data": {
      "text/plain": [
       "0.9333333333333333"
      ]
     },
     "execution_count": 1403,
     "metadata": {},
     "output_type": "execute_result"
    }
   ],
   "source": [
    "# Instanciando o modelo KNN com o sklearn\n",
    "KNN_sklearn_2 = sklearn.neighbors.KNeighborsClassifier(n_neighbors = 10)\n",
    "\n",
    "# Treinando o modelo\n",
    "KNN_sklearn_2.fit(train_x, train_y)\n",
    "\n",
    "# Medindo a acurácia do modelo utilizando as mesmas listas de treino e teste do caso de teste 1\n",
    "KNN_sklearn_2.score(test_x, test_y)"
   ]
  },
  {
   "cell_type": "code",
   "execution_count": 1404,
   "metadata": {},
   "outputs": [
    {
     "data": {
      "text/plain": [
       "array([[ 9,  0,  0],\n",
       "       [ 0,  9,  0],\n",
       "       [ 0,  2, 10]])"
      ]
     },
     "execution_count": 1404,
     "metadata": {},
     "output_type": "execute_result"
    }
   ],
   "source": [
    "# Gerando a matriz de confusão\n",
    "confusion_matrix(test_y, KNN_sklearn_2.predict(test_x))"
   ]
  }
 ],
 "metadata": {
  "kernelspec": {
   "display_name": "Python 3",
   "language": "python",
   "name": "python3"
  },
  "language_info": {
   "codemirror_mode": {
    "name": "ipython",
    "version": 3
   },
   "file_extension": ".py",
   "mimetype": "text/x-python",
   "name": "python",
   "nbconvert_exporter": "python",
   "pygments_lexer": "ipython3",
   "version": "3.7.2"
  }
 },
 "nbformat": 4,
 "nbformat_minor": 2
}
